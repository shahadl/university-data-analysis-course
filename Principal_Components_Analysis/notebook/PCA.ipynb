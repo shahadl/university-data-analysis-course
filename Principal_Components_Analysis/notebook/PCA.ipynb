{
 "cells": [
  {
   "cell_type": "markdown",
   "metadata": {},
   "source": [
    "<font color='DimGrey'> \n",
    "# Table of Contents </font>\n",
    "<font color='Maroon'> \n",
    "* [Principal Components](#PC)\n",
    "    * [The data](#exp)\n",
    "    * [PCA by hand](#bh)\n",
    "    * [PCA by prcomp](#bp)\n",
    "    * [Relationship](#R)\n",
    "    * [Plots](#p)\n",
    "* [LOOCV](#cv)\n"
   ]
  },
  {
   "cell_type": "markdown",
   "metadata": {},
   "source": [
    "<a id='exp'></a>\n",
    "<font color='DimGrey'> \n",
    "# The data"
   ]
  },
  {
   "cell_type": "code",
   "execution_count": 1,
   "metadata": {},
   "outputs": [],
   "source": [
    "#read the data\n",
    "pro <- read.csv(\"protein.csv\")"
   ]
  },
  {
   "cell_type": "code",
   "execution_count": 9,
   "metadata": {},
   "outputs": [
    {
     "data": {
      "text/html": [
       "<table>\n",
       "<caption>A data.frame: 6 × 10</caption>\n",
       "<thead>\n",
       "\t<tr><th></th><th scope=col>Country</th><th scope=col>Red.Meat</th><th scope=col>White.Meat</th><th scope=col>Eggs</th><th scope=col>Milk</th><th scope=col>Fish</th><th scope=col>Cereal</th><th scope=col>Starch</th><th scope=col>Nuts</th><th scope=col>fruits.and.vegetables</th></tr>\n",
       "\t<tr><th></th><th scope=col>&lt;fct&gt;</th><th scope=col>&lt;dbl&gt;</th><th scope=col>&lt;dbl&gt;</th><th scope=col>&lt;dbl&gt;</th><th scope=col>&lt;dbl&gt;</th><th scope=col>&lt;dbl&gt;</th><th scope=col>&lt;dbl&gt;</th><th scope=col>&lt;dbl&gt;</th><th scope=col>&lt;dbl&gt;</th><th scope=col>&lt;dbl&gt;</th></tr>\n",
       "</thead>\n",
       "<tbody>\n",
       "\t<tr><th scope=row>1</th><td>Albania       </td><td>10.1</td><td> 1.4</td><td>0.5</td><td> 8.9</td><td>0.2</td><td>42.3</td><td>0.6</td><td>5.5</td><td>1.7</td></tr>\n",
       "\t<tr><th scope=row>2</th><td>Austria       </td><td> 8.9</td><td>14.0</td><td>4.3</td><td>19.9</td><td>2.1</td><td>28.0</td><td>3.6</td><td>1.3</td><td>4.3</td></tr>\n",
       "\t<tr><th scope=row>3</th><td>Belgium       </td><td>13.5</td><td> 9.3</td><td>4.1</td><td>17.5</td><td>4.5</td><td>26.6</td><td>5.7</td><td>2.1</td><td>4.0</td></tr>\n",
       "\t<tr><th scope=row>4</th><td>Bulgaria      </td><td> 7.8</td><td> 6.0</td><td>1.6</td><td> 8.3</td><td>1.2</td><td>56.7</td><td>1.1</td><td>3.7</td><td>4.2</td></tr>\n",
       "\t<tr><th scope=row>5</th><td>Czechoslovakia</td><td> 9.7</td><td>11.4</td><td>2.8</td><td>12.5</td><td>2.0</td><td>34.3</td><td>5.0</td><td>1.1</td><td>4.0</td></tr>\n",
       "\t<tr><th scope=row>6</th><td>Denmark       </td><td>10.6</td><td>10.8</td><td>3.7</td><td>25.0</td><td>9.9</td><td>21.9</td><td>4.8</td><td>0.7</td><td>2.4</td></tr>\n",
       "</tbody>\n",
       "</table>\n"
      ],
      "text/latex": [
       "A data.frame: 6 × 10\n",
       "\\begin{tabular}{r|llllllllll}\n",
       "  & Country & Red.Meat & White.Meat & Eggs & Milk & Fish & Cereal & Starch & Nuts & fruits.and.vegetables\\\\\n",
       "  & <fct> & <dbl> & <dbl> & <dbl> & <dbl> & <dbl> & <dbl> & <dbl> & <dbl> & <dbl>\\\\\n",
       "\\hline\n",
       "\t1 & Albania        & 10.1 &  1.4 & 0.5 &  8.9 & 0.2 & 42.3 & 0.6 & 5.5 & 1.7\\\\\n",
       "\t2 & Austria        &  8.9 & 14.0 & 4.3 & 19.9 & 2.1 & 28.0 & 3.6 & 1.3 & 4.3\\\\\n",
       "\t3 & Belgium        & 13.5 &  9.3 & 4.1 & 17.5 & 4.5 & 26.6 & 5.7 & 2.1 & 4.0\\\\\n",
       "\t4 & Bulgaria       &  7.8 &  6.0 & 1.6 &  8.3 & 1.2 & 56.7 & 1.1 & 3.7 & 4.2\\\\\n",
       "\t5 & Czechoslovakia &  9.7 & 11.4 & 2.8 & 12.5 & 2.0 & 34.3 & 5.0 & 1.1 & 4.0\\\\\n",
       "\t6 & Denmark        & 10.6 & 10.8 & 3.7 & 25.0 & 9.9 & 21.9 & 4.8 & 0.7 & 2.4\\\\\n",
       "\\end{tabular}\n"
      ],
      "text/markdown": [
       "\n",
       "A data.frame: 6 × 10\n",
       "\n",
       "| <!--/--> | Country &lt;fct&gt; | Red.Meat &lt;dbl&gt; | White.Meat &lt;dbl&gt; | Eggs &lt;dbl&gt; | Milk &lt;dbl&gt; | Fish &lt;dbl&gt; | Cereal &lt;dbl&gt; | Starch &lt;dbl&gt; | Nuts &lt;dbl&gt; | fruits.and.vegetables &lt;dbl&gt; |\n",
       "|---|---|---|---|---|---|---|---|---|---|---|\n",
       "| 1 | Albania        | 10.1 |  1.4 | 0.5 |  8.9 | 0.2 | 42.3 | 0.6 | 5.5 | 1.7 |\n",
       "| 2 | Austria        |  8.9 | 14.0 | 4.3 | 19.9 | 2.1 | 28.0 | 3.6 | 1.3 | 4.3 |\n",
       "| 3 | Belgium        | 13.5 |  9.3 | 4.1 | 17.5 | 4.5 | 26.6 | 5.7 | 2.1 | 4.0 |\n",
       "| 4 | Bulgaria       |  7.8 |  6.0 | 1.6 |  8.3 | 1.2 | 56.7 | 1.1 | 3.7 | 4.2 |\n",
       "| 5 | Czechoslovakia |  9.7 | 11.4 | 2.8 | 12.5 | 2.0 | 34.3 | 5.0 | 1.1 | 4.0 |\n",
       "| 6 | Denmark        | 10.6 | 10.8 | 3.7 | 25.0 | 9.9 | 21.9 | 4.8 | 0.7 | 2.4 |\n",
       "\n"
      ],
      "text/plain": [
       "  Country        Red.Meat White.Meat Eggs Milk Fish Cereal Starch Nuts\n",
       "1 Albania        10.1      1.4       0.5   8.9 0.2  42.3   0.6    5.5 \n",
       "2 Austria         8.9     14.0       4.3  19.9 2.1  28.0   3.6    1.3 \n",
       "3 Belgium        13.5      9.3       4.1  17.5 4.5  26.6   5.7    2.1 \n",
       "4 Bulgaria        7.8      6.0       1.6   8.3 1.2  56.7   1.1    3.7 \n",
       "5 Czechoslovakia  9.7     11.4       2.8  12.5 2.0  34.3   5.0    1.1 \n",
       "6 Denmark        10.6     10.8       3.7  25.0 9.9  21.9   4.8    0.7 \n",
       "  fruits.and.vegetables\n",
       "1 1.7                  \n",
       "2 4.3                  \n",
       "3 4.0                  \n",
       "4 4.2                  \n",
       "5 4.0                  \n",
       "6 2.4                  "
      ]
     },
     "metadata": {},
     "output_type": "display_data"
    }
   ],
   "source": [
    "#display the first few rows\n",
    "head(pro)"
   ]
  },
  {
   "cell_type": "code",
   "execution_count": 72,
   "metadata": {},
   "outputs": [
    {
     "data": {
      "text/html": [
       "<style>\n",
       ".list-inline {list-style: none; margin:0; padding: 0}\n",
       ".list-inline>li {display: inline-block}\n",
       ".list-inline>li:not(:last-child)::after {content: \"\\00b7\"; padding: 0 .5ex}\n",
       "</style>\n",
       "<ol class=list-inline><li>25</li><li>10</li></ol>\n"
      ],
      "text/latex": [
       "\\begin{enumerate*}\n",
       "\\item 25\n",
       "\\item 10\n",
       "\\end{enumerate*}\n"
      ],
      "text/markdown": [
       "1. 25\n",
       "2. 10\n",
       "\n",
       "\n"
      ],
      "text/plain": [
       "[1] 25 10"
      ]
     },
     "metadata": {},
     "output_type": "display_data"
    }
   ],
   "source": [
    "#the dimension of the data \n",
    "dim(pro)"
   ]
  },
  {
   "cell_type": "markdown",
   "metadata": {},
   "source": [
    "<font color='Maroon'> \n",
    "There is nine variables beside the country variable"
   ]
  },
  {
   "cell_type": "code",
   "execution_count": 11,
   "metadata": {},
   "outputs": [
    {
     "name": "stdout",
     "output_type": "stream",
     "text": [
      "'data.frame':\t25 obs. of  10 variables:\n",
      " $ Country              : Factor w/ 25 levels \"Albania\",\"Austria\",..: 1 2 3 4 5 6 7 8 9 10 ...\n",
      " $ Red.Meat             : num  10.1 8.9 13.5 7.8 9.7 10.6 8.4 9.5 18 10.2 ...\n",
      " $ White.Meat           : num  1.4 14 9.3 6 11.4 10.8 11.6 4.9 9.9 3 ...\n",
      " $ Eggs                 : num  0.5 4.3 4.1 1.6 2.8 3.7 3.7 2.7 3.3 2.8 ...\n",
      " $ Milk                 : num  8.9 19.9 17.5 8.3 12.5 25 11.1 33.7 19.5 17.6 ...\n",
      " $ Fish                 : num  0.2 2.1 4.5 1.2 2 9.9 5.4 5.8 5.7 5.9 ...\n",
      " $ Cereal               : num  42.3 28 26.6 56.7 34.3 21.9 24.6 26.3 28.1 41.7 ...\n",
      " $ Starch               : num  0.6 3.6 5.7 1.1 5 4.8 6.5 5.1 4.8 2.2 ...\n",
      " $ Nuts                 : num  5.5 1.3 2.1 3.7 1.1 0.7 0.8 1 2.4 7.8 ...\n",
      " $ fruits.and.vegetables: num  1.7 4.3 4 4.2 4 2.4 3.6 1.4 6.5 6.5 ...\n"
     ]
    }
   ],
   "source": [
    "#structure of the data\n",
    "str(pro)"
   ]
  },
  {
   "cell_type": "code",
   "execution_count": 2,
   "metadata": {},
   "outputs": [],
   "source": [
    "#assign only the numerical data to \"Npro\"\n",
    "Npro <- pro[,2:10]"
   ]
  },
  {
   "cell_type": "code",
   "execution_count": 88,
   "metadata": {},
   "outputs": [
    {
     "data": {
      "text/plain": [
       "    Red.Meat        White.Meat          Eggs            Milk      \n",
       " Min.   : 4.400   Min.   : 1.400   Min.   :0.500   Min.   : 4.70  \n",
       " 1st Qu.: 7.800   1st Qu.: 4.900   1st Qu.:2.700   1st Qu.: 9.70  \n",
       " Median : 9.500   Median : 7.800   Median :2.900   Median :17.50  \n",
       " Mean   : 9.828   Mean   : 7.896   Mean   :2.936   Mean   :16.31  \n",
       " 3rd Qu.:10.600   3rd Qu.:10.800   3rd Qu.:3.700   3rd Qu.:20.60  \n",
       " Max.   :18.000   Max.   :14.000   Max.   :4.700   Max.   :33.70  \n",
       "      Fish            Cereal          Starch           Nuts      \n",
       " Min.   : 0.200   Min.   :18.60   Min.   :0.600   Min.   :0.700  \n",
       " 1st Qu.: 2.100   1st Qu.:24.30   1st Qu.:3.100   1st Qu.:1.500  \n",
       " Median : 3.400   Median :28.00   Median :4.700   Median :2.400  \n",
       " Mean   : 4.284   Mean   :32.25   Mean   :4.276   Mean   :3.072  \n",
       " 3rd Qu.: 5.800   3rd Qu.:40.10   3rd Qu.:5.700   3rd Qu.:4.700  \n",
       " Max.   :14.200   Max.   :56.70   Max.   :6.500   Max.   :7.800  \n",
       " fruits.and.vegetables\n",
       " Min.   :1.400        \n",
       " 1st Qu.:2.900        \n",
       " Median :3.800        \n",
       " Mean   :4.136        \n",
       " 3rd Qu.:4.900        \n",
       " Max.   :7.900        "
      ]
     },
     "metadata": {},
     "output_type": "display_data"
    }
   ],
   "source": [
    "summary(Npro)"
   ]
  },
  {
   "cell_type": "markdown",
   "metadata": {},
   "source": [
    "<font color='DimGrey'> \n",
    "# Principal Components Analysis"
   ]
  },
  {
   "cell_type": "markdown",
   "metadata": {},
   "source": [
    "<a id='bh'></a>\n",
    "<font color='DimGrey'> \n",
    "### by hand:"
   ]
  },
  {
   "cell_type": "code",
   "execution_count": 116,
   "metadata": {},
   "outputs": [],
   "source": [
    "#calculate the correlation matrix\n",
    "cor <- cor(Npro)"
   ]
  },
  {
   "cell_type": "code",
   "execution_count": 117,
   "metadata": {},
   "outputs": [],
   "source": [
    "#calculate the Eigenvalues & Eigenvectors\n",
    "Eigenvalues <- eigen(cor)$values"
   ]
  },
  {
   "cell_type": "code",
   "execution_count": 121,
   "metadata": {},
   "outputs": [],
   "source": [
    "Eigenvectors <- eigen(cor)$vectors"
   ]
  },
  {
   "cell_type": "code",
   "execution_count": 119,
   "metadata": {},
   "outputs": [],
   "source": [
    "#now, the Principal Components can be estimated via a matrix\n",
    "PC <- as.matrix(Npro) %*% Eigenvectors"
   ]
  },
  {
   "cell_type": "code",
   "execution_count": 19,
   "metadata": {},
   "outputs": [
    {
     "name": "stdout",
     "output_type": "stream",
     "text": [
      "[1] 43.13 18.16 11.78 10.62  5.90  4.74  3.20  1.31  1.16\n"
     ]
    }
   ],
   "source": [
    "#calculate the proportion of the variation explained by the various components\n",
    "print(round(Eigenvalues/sum(Eigenvalues)*100,digits=2))"
   ]
  },
  {
   "cell_type": "code",
   "execution_count": 20,
   "metadata": {},
   "outputs": [
    {
     "data": {
      "text/html": [
       "<style>\n",
       ".list-inline {list-style: none; margin:0; padding: 0}\n",
       ".list-inline>li {display: inline-block}\n",
       ".list-inline>li:not(:last-child)::after {content: \"\\00b7\"; padding: 0 .5ex}\n",
       "</style>\n",
       "<ol class=list-inline><li>43.13</li><li>61.29</li><li>73.07</li><li>83.69</li><li>89.59</li><li>94.33</li><li>97.52</li><li>98.84</li><li>100</li></ol>\n"
      ],
      "text/latex": [
       "\\begin{enumerate*}\n",
       "\\item 43.13\n",
       "\\item 61.29\n",
       "\\item 73.07\n",
       "\\item 83.69\n",
       "\\item 89.59\n",
       "\\item 94.33\n",
       "\\item 97.52\n",
       "\\item 98.84\n",
       "\\item 100\n",
       "\\end{enumerate*}\n"
      ],
      "text/markdown": [
       "1. 43.13\n",
       "2. 61.29\n",
       "3. 73.07\n",
       "4. 83.69\n",
       "5. 89.59\n",
       "6. 94.33\n",
       "7. 97.52\n",
       "8. 98.84\n",
       "9. 100\n",
       "\n",
       "\n"
      ],
      "text/plain": [
       "[1]  43.13  61.29  73.07  83.69  89.59  94.33  97.52  98.84 100.00"
      ]
     },
     "metadata": {},
     "output_type": "display_data"
    }
   ],
   "source": [
    "round(cumsum(Eigenvalues/sum(Eigenvalues))*100,digits=2)"
   ]
  },
  {
   "cell_type": "markdown",
   "metadata": {},
   "source": [
    "<font color='Maroon'> \n",
    "### Thus,the first component explains 43.13 of the total variation in the data.\n",
    "### and the  first five components explains 89.59 of the total variation in the data.\n",
    "## This suggest that the effective dimension of the space of yield curves could be five and any of the yield curves from our data set can be described by a linear combination of the first three loadings, while the relative error being very small."
   ]
  },
  {
   "cell_type": "markdown",
   "metadata": {},
   "source": [
    "<a id='bp'></a>\n",
    "<font color='DimGrey'> \n",
    "### by method:"
   ]
  },
  {
   "cell_type": "code",
   "execution_count": 4,
   "metadata": {},
   "outputs": [],
   "source": [
    "pc <- prcomp(Npro, scale.= TRUE)\n",
    "#set the scale to TRUE to estimate the PC by the cor matrix instead of cov"
   ]
  },
  {
   "cell_type": "code",
   "execution_count": 5,
   "metadata": {},
   "outputs": [
    {
     "data": {
      "text/html": [
       "<table>\n",
       "<caption>A matrix: 9 × 9 of type dbl</caption>\n",
       "<thead>\n",
       "\t<tr><th></th><th scope=col>PC1</th><th scope=col>PC2</th><th scope=col>PC3</th><th scope=col>PC4</th><th scope=col>PC5</th><th scope=col>PC6</th><th scope=col>PC7</th><th scope=col>PC8</th><th scope=col>PC9</th></tr>\n",
       "</thead>\n",
       "<tbody>\n",
       "\t<tr><th scope=row>Red.Meat</th><td>-0.3097482</td><td>-0.06597175</td><td>-0.51511760</td><td>-0.46382164</td><td> 0.2011695</td><td>-0.3320790</td><td> 0.44948607</td><td>-0.044366706</td><td> 0.25391992</td></tr>\n",
       "\t<tr><th scope=row>White.Meat</th><td>-0.3242371</td><td>-0.26023489</td><td> 0.60620736</td><td>-0.14196192</td><td> 0.1179686</td><td> 0.2453928</td><td> 0.07085976</td><td>-0.108072325</td><td> 0.59048506</td></tr>\n",
       "\t<tr><th scope=row>Eggs</th><td>-0.4356002</td><td>-0.04921056</td><td> 0.07864397</td><td>-0.32605111</td><td> 0.1014603</td><td>-0.1834209</td><td>-0.57015331</td><td> 0.536011473</td><td>-0.19752481</td></tr>\n",
       "\t<tr><th scope=row>Milk</th><td>-0.3375943</td><td>-0.19182069</td><td>-0.36708729</td><td>-0.01350964</td><td>-0.7150679</td><td> 0.4303987</td><td>-0.10237969</td><td>-0.046233269</td><td> 0.07151918</td></tr>\n",
       "\t<tr><th scope=row>Fish</th><td>-0.1300092</td><td> 0.66708007</td><td>-0.21250506</td><td> 0.28338151</td><td> 0.1751990</td><td> 0.2750701</td><td>-0.02442142</td><td> 0.351425146</td><td> 0.42683018</td></tr>\n",
       "\t<tr><th scope=row>Cereal</th><td> 0.4385563</td><td>-0.24052196</td><td> 0.08082681</td><td>-0.04959222</td><td>-0.3268877</td><td>-0.1435739</td><td> 0.27057136</td><td> 0.688045876</td><td> 0.25834115</td></tr>\n",
       "\t<tr><th scope=row>Starch</th><td>-0.3143399</td><td> 0.33404488</td><td> 0.28189810</td><td> 0.24125906</td><td>-0.4714638</td><td>-0.6337001</td><td> 0.09750212</td><td>-0.118457894</td><td> 0.06737301</td></tr>\n",
       "\t<tr><th scope=row>Nuts</th><td> 0.4224730</td><td> 0.14009678</td><td>-0.12626640</td><td>-0.33775943</td><td>-0.1396997</td><td>-0.1979712</td><td>-0.55720360</td><td>-0.293178898</td><td> 0.46553895</td></tr>\n",
       "\t<tr><th scope=row>fruits.and.vegetables</th><td> 0.0931764</td><td> 0.50462753</td><td> 0.28129597</td><td>-0.63495877</td><td>-0.2113138</td><td> 0.2712456</td><td> 0.25218441</td><td>-0.003640526</td><td>-0.26931625</td></tr>\n",
       "</tbody>\n",
       "</table>\n"
      ],
      "text/latex": [
       "A matrix: 9 × 9 of type dbl\n",
       "\\begin{tabular}{r|lllllllll}\n",
       "  & PC1 & PC2 & PC3 & PC4 & PC5 & PC6 & PC7 & PC8 & PC9\\\\\n",
       "\\hline\n",
       "\tRed.Meat & -0.3097482 & -0.06597175 & -0.51511760 & -0.46382164 &  0.2011695 & -0.3320790 &  0.44948607 & -0.044366706 &  0.25391992\\\\\n",
       "\tWhite.Meat & -0.3242371 & -0.26023489 &  0.60620736 & -0.14196192 &  0.1179686 &  0.2453928 &  0.07085976 & -0.108072325 &  0.59048506\\\\\n",
       "\tEggs & -0.4356002 & -0.04921056 &  0.07864397 & -0.32605111 &  0.1014603 & -0.1834209 & -0.57015331 &  0.536011473 & -0.19752481\\\\\n",
       "\tMilk & -0.3375943 & -0.19182069 & -0.36708729 & -0.01350964 & -0.7150679 &  0.4303987 & -0.10237969 & -0.046233269 &  0.07151918\\\\\n",
       "\tFish & -0.1300092 &  0.66708007 & -0.21250506 &  0.28338151 &  0.1751990 &  0.2750701 & -0.02442142 &  0.351425146 &  0.42683018\\\\\n",
       "\tCereal &  0.4385563 & -0.24052196 &  0.08082681 & -0.04959222 & -0.3268877 & -0.1435739 &  0.27057136 &  0.688045876 &  0.25834115\\\\\n",
       "\tStarch & -0.3143399 &  0.33404488 &  0.28189810 &  0.24125906 & -0.4714638 & -0.6337001 &  0.09750212 & -0.118457894 &  0.06737301\\\\\n",
       "\tNuts &  0.4224730 &  0.14009678 & -0.12626640 & -0.33775943 & -0.1396997 & -0.1979712 & -0.55720360 & -0.293178898 &  0.46553895\\\\\n",
       "\tfruits.and.vegetables &  0.0931764 &  0.50462753 &  0.28129597 & -0.63495877 & -0.2113138 &  0.2712456 &  0.25218441 & -0.003640526 & -0.26931625\\\\\n",
       "\\end{tabular}\n"
      ],
      "text/markdown": [
       "\n",
       "A matrix: 9 × 9 of type dbl\n",
       "\n",
       "| <!--/--> | PC1 | PC2 | PC3 | PC4 | PC5 | PC6 | PC7 | PC8 | PC9 |\n",
       "|---|---|---|---|---|---|---|---|---|---|\n",
       "| Red.Meat | -0.3097482 | -0.06597175 | -0.51511760 | -0.46382164 |  0.2011695 | -0.3320790 |  0.44948607 | -0.044366706 |  0.25391992 |\n",
       "| White.Meat | -0.3242371 | -0.26023489 |  0.60620736 | -0.14196192 |  0.1179686 |  0.2453928 |  0.07085976 | -0.108072325 |  0.59048506 |\n",
       "| Eggs | -0.4356002 | -0.04921056 |  0.07864397 | -0.32605111 |  0.1014603 | -0.1834209 | -0.57015331 |  0.536011473 | -0.19752481 |\n",
       "| Milk | -0.3375943 | -0.19182069 | -0.36708729 | -0.01350964 | -0.7150679 |  0.4303987 | -0.10237969 | -0.046233269 |  0.07151918 |\n",
       "| Fish | -0.1300092 |  0.66708007 | -0.21250506 |  0.28338151 |  0.1751990 |  0.2750701 | -0.02442142 |  0.351425146 |  0.42683018 |\n",
       "| Cereal |  0.4385563 | -0.24052196 |  0.08082681 | -0.04959222 | -0.3268877 | -0.1435739 |  0.27057136 |  0.688045876 |  0.25834115 |\n",
       "| Starch | -0.3143399 |  0.33404488 |  0.28189810 |  0.24125906 | -0.4714638 | -0.6337001 |  0.09750212 | -0.118457894 |  0.06737301 |\n",
       "| Nuts |  0.4224730 |  0.14009678 | -0.12626640 | -0.33775943 | -0.1396997 | -0.1979712 | -0.55720360 | -0.293178898 |  0.46553895 |\n",
       "| fruits.and.vegetables |  0.0931764 |  0.50462753 |  0.28129597 | -0.63495877 | -0.2113138 |  0.2712456 |  0.25218441 | -0.003640526 | -0.26931625 |\n",
       "\n"
      ],
      "text/plain": [
       "                      PC1        PC2         PC3         PC4         PC5       \n",
       "Red.Meat              -0.3097482 -0.06597175 -0.51511760 -0.46382164  0.2011695\n",
       "White.Meat            -0.3242371 -0.26023489  0.60620736 -0.14196192  0.1179686\n",
       "Eggs                  -0.4356002 -0.04921056  0.07864397 -0.32605111  0.1014603\n",
       "Milk                  -0.3375943 -0.19182069 -0.36708729 -0.01350964 -0.7150679\n",
       "Fish                  -0.1300092  0.66708007 -0.21250506  0.28338151  0.1751990\n",
       "Cereal                 0.4385563 -0.24052196  0.08082681 -0.04959222 -0.3268877\n",
       "Starch                -0.3143399  0.33404488  0.28189810  0.24125906 -0.4714638\n",
       "Nuts                   0.4224730  0.14009678 -0.12626640 -0.33775943 -0.1396997\n",
       "fruits.and.vegetables  0.0931764  0.50462753  0.28129597 -0.63495877 -0.2113138\n",
       "                      PC6        PC7         PC8          PC9        \n",
       "Red.Meat              -0.3320790  0.44948607 -0.044366706  0.25391992\n",
       "White.Meat             0.2453928  0.07085976 -0.108072325  0.59048506\n",
       "Eggs                  -0.1834209 -0.57015331  0.536011473 -0.19752481\n",
       "Milk                   0.4303987 -0.10237969 -0.046233269  0.07151918\n",
       "Fish                   0.2750701 -0.02442142  0.351425146  0.42683018\n",
       "Cereal                -0.1435739  0.27057136  0.688045876  0.25834115\n",
       "Starch                -0.6337001  0.09750212 -0.118457894  0.06737301\n",
       "Nuts                  -0.1979712 -0.55720360 -0.293178898  0.46553895\n",
       "fruits.and.vegetables  0.2712456  0.25218441 -0.003640526 -0.26931625"
      ]
     },
     "metadata": {},
     "output_type": "display_data"
    }
   ],
   "source": [
    "#Eigenvectors\n",
    "pc$rotation"
   ]
  },
  {
   "cell_type": "code",
   "execution_count": 6,
   "metadata": {},
   "outputs": [
    {
     "data": {
      "text/html": [
       "<style>\n",
       ".list-inline {list-style: none; margin:0; padding: 0}\n",
       ".list-inline>li {display: inline-block}\n",
       ".list-inline>li:not(:last-child)::after {content: \"\\00b7\"; padding: 0 .5ex}\n",
       "</style>\n",
       "<ol class=list-inline><li>3.88155846004562</li><li>1.63456720227241</li><li>1.06020090220391</li><li>0.955395535152014</li><li>0.531235858931398</li><li>0.426464670843066</li><li>0.287639708357343</li><li>0.118335899593856</li><li>0.104601762600388</li></ol>\n"
      ],
      "text/latex": [
       "\\begin{enumerate*}\n",
       "\\item 3.88155846004562\n",
       "\\item 1.63456720227241\n",
       "\\item 1.06020090220391\n",
       "\\item 0.955395535152014\n",
       "\\item 0.531235858931398\n",
       "\\item 0.426464670843066\n",
       "\\item 0.287639708357343\n",
       "\\item 0.118335899593856\n",
       "\\item 0.104601762600388\n",
       "\\end{enumerate*}\n"
      ],
      "text/markdown": [
       "1. 3.88155846004562\n",
       "2. 1.63456720227241\n",
       "3. 1.06020090220391\n",
       "4. 0.955395535152014\n",
       "5. 0.531235858931398\n",
       "6. 0.426464670843066\n",
       "7. 0.287639708357343\n",
       "8. 0.118335899593856\n",
       "9. 0.104601762600388\n",
       "\n",
       "\n"
      ],
      "text/plain": [
       "[1] 3.8815585 1.6345672 1.0602009 0.9553955 0.5312359 0.4264647 0.2876397\n",
       "[8] 0.1183359 0.1046018"
      ]
     },
     "metadata": {},
     "output_type": "display_data"
    }
   ],
   "source": [
    "#Eigenvalues\n",
    "pc$sdev^2"
   ]
  },
  {
   "cell_type": "code",
   "execution_count": 7,
   "metadata": {},
   "outputs": [
    {
     "data": {
      "text/plain": [
       "Importance of components:\n",
       "                          PC1    PC2    PC3    PC4     PC5     PC6     PC7\n",
       "Standard deviation     1.9702 1.2785 1.0297 0.9774 0.72886 0.65304 0.53632\n",
       "Proportion of Variance 0.4313 0.1816 0.1178 0.1062 0.05903 0.04738 0.03196\n",
       "Cumulative Proportion  0.4313 0.6129 0.7307 0.8369 0.89588 0.94327 0.97523\n",
       "                           PC8     PC9\n",
       "Standard deviation     0.34400 0.32342\n",
       "Proportion of Variance 0.01315 0.01162\n",
       "Cumulative Proportion  0.98838 1.00000"
      ]
     },
     "metadata": {},
     "output_type": "display_data"
    }
   ],
   "source": [
    "summary(pc)"
   ]
  },
  {
   "cell_type": "markdown",
   "metadata": {},
   "source": [
    "<font color='Maroon'> \n",
    "The cumulative proportion determine the amount of variance that the principal components explain"
   ]
  },
  {
   "cell_type": "markdown",
   "metadata": {},
   "source": [
    "<a id='R'></a>\n",
    "<font color='DimGrey'> \n",
    "# Relationship"
   ]
  },
  {
   "cell_type": "markdown",
   "metadata": {},
   "source": [
    "<font color='DimGrey'> \n",
    "## × PC vs variables"
   ]
  },
  {
   "cell_type": "code",
   "execution_count": 8,
   "metadata": {
    "scrolled": true
   },
   "outputs": [
    {
     "data": {
      "text/html": [
       "<table>\n",
       "<caption>A matrix: 9 × 9 of type dbl</caption>\n",
       "<thead>\n",
       "\t<tr><th></th><th scope=col>Red.Meat</th><th scope=col>White.Meat</th><th scope=col>Eggs</th><th scope=col>milk</th><th scope=col>fish</th><th scope=col>Cereal</th><th scope=col>Starch</th><th scope=col>Nuts</th><th scope=col>fruits.and.vegetables</th></tr>\n",
       "</thead>\n",
       "<tbody>\n",
       "\t<tr><th scope=row>PC1</th><td>-0.61025570</td><td>-0.63880119</td><td>-0.85820521</td><td>-0.66511722</td><td>-0.25613982</td><td> 0.86402929</td><td>-0.61930221</td><td> 0.8323424</td><td> 0.18357307</td></tr>\n",
       "\t<tr><th scope=row>PC2</th><td>-0.08434501</td><td>-0.33271081</td><td>-0.06291580</td><td>-0.24524313</td><td> 0.85286317</td><td>-0.30750779</td><td> 0.42707702</td><td> 0.1791140</td><td> 0.64516728</td></tr>\n",
       "\t<tr><th scope=row>PC3</th><td>-0.53039628</td><td> 0.62418782</td><td> 0.08097659</td><td>-0.37797531</td><td>-0.21880808</td><td> 0.08322418</td><td> 0.29025936</td><td>-0.1300115</td><td> 0.28963937</td></tr>\n",
       "\t<tr><th scope=row>PC4</th><td>-0.45335938</td><td>-0.13875974</td><td>-0.31869649</td><td>-0.01320491</td><td> 0.27698938</td><td>-0.04847359</td><td> 0.23581706</td><td>-0.3301407</td><td>-0.62063623</td></tr>\n",
       "\t<tr><th scope=row>PC5</th><td> 0.14662429</td><td> 0.08598251</td><td> 0.07395029</td><td>-0.52118390</td><td> 0.12769545</td><td>-0.23825510</td><td>-0.34363077</td><td>-0.1018214</td><td>-0.15401801</td></tr>\n",
       "\t<tr><th scope=row>PC6</th><td>-0.21686177</td><td> 0.16025198</td><td>-0.11978167</td><td> 0.28106871</td><td> 0.17963251</td><td>-0.09375990</td><td>-0.41383315</td><td>-0.1292836</td><td> 0.17713493</td></tr>\n",
       "\t<tr><th scope=row>PC7</th><td> 0.24106861</td><td> 0.03800354</td><td>-0.30578493</td><td>-0.05490833</td><td>-0.01309771</td><td> 0.14511298</td><td> 0.05229239</td><td>-0.2988397</td><td> 0.13525168</td></tr>\n",
       "\t<tr><th scope=row>PC8</th><td>-0.01526214</td><td>-0.03717686</td><td> 0.18438787</td><td>-0.01590424</td><td> 0.12089020</td><td> 0.23668768</td><td>-0.04074950</td><td>-0.1008535</td><td>-0.00125234</td></tr>\n",
       "\t<tr><th scope=row>PC9</th><td> 0.08212328</td><td> 0.19097583</td><td>-0.06388386</td><td> 0.02313087</td><td> 0.13804625</td><td> 0.08355320</td><td> 0.02178991</td><td> 0.1505655</td><td>-0.08710279</td></tr>\n",
       "</tbody>\n",
       "</table>\n"
      ],
      "text/latex": [
       "A matrix: 9 × 9 of type dbl\n",
       "\\begin{tabular}{r|lllllllll}\n",
       "  & Red.Meat & White.Meat & Eggs & milk & fish & Cereal & Starch & Nuts & fruits.and.vegetables\\\\\n",
       "\\hline\n",
       "\tPC1 & -0.61025570 & -0.63880119 & -0.85820521 & -0.66511722 & -0.25613982 &  0.86402929 & -0.61930221 &  0.8323424 &  0.18357307\\\\\n",
       "\tPC2 & -0.08434501 & -0.33271081 & -0.06291580 & -0.24524313 &  0.85286317 & -0.30750779 &  0.42707702 &  0.1791140 &  0.64516728\\\\\n",
       "\tPC3 & -0.53039628 &  0.62418782 &  0.08097659 & -0.37797531 & -0.21880808 &  0.08322418 &  0.29025936 & -0.1300115 &  0.28963937\\\\\n",
       "\tPC4 & -0.45335938 & -0.13875974 & -0.31869649 & -0.01320491 &  0.27698938 & -0.04847359 &  0.23581706 & -0.3301407 & -0.62063623\\\\\n",
       "\tPC5 &  0.14662429 &  0.08598251 &  0.07395029 & -0.52118390 &  0.12769545 & -0.23825510 & -0.34363077 & -0.1018214 & -0.15401801\\\\\n",
       "\tPC6 & -0.21686177 &  0.16025198 & -0.11978167 &  0.28106871 &  0.17963251 & -0.09375990 & -0.41383315 & -0.1292836 &  0.17713493\\\\\n",
       "\tPC7 &  0.24106861 &  0.03800354 & -0.30578493 & -0.05490833 & -0.01309771 &  0.14511298 &  0.05229239 & -0.2988397 &  0.13525168\\\\\n",
       "\tPC8 & -0.01526214 & -0.03717686 &  0.18438787 & -0.01590424 &  0.12089020 &  0.23668768 & -0.04074950 & -0.1008535 & -0.00125234\\\\\n",
       "\tPC9 &  0.08212328 &  0.19097583 & -0.06388386 &  0.02313087 &  0.13804625 &  0.08355320 &  0.02178991 &  0.1505655 & -0.08710279\\\\\n",
       "\\end{tabular}\n"
      ],
      "text/markdown": [
       "\n",
       "A matrix: 9 × 9 of type dbl\n",
       "\n",
       "| <!--/--> | Red.Meat | White.Meat | Eggs | milk | fish | Cereal | Starch | Nuts | fruits.and.vegetables |\n",
       "|---|---|---|---|---|---|---|---|---|---|\n",
       "| PC1 | -0.61025570 | -0.63880119 | -0.85820521 | -0.66511722 | -0.25613982 |  0.86402929 | -0.61930221 |  0.8323424 |  0.18357307 |\n",
       "| PC2 | -0.08434501 | -0.33271081 | -0.06291580 | -0.24524313 |  0.85286317 | -0.30750779 |  0.42707702 |  0.1791140 |  0.64516728 |\n",
       "| PC3 | -0.53039628 |  0.62418782 |  0.08097659 | -0.37797531 | -0.21880808 |  0.08322418 |  0.29025936 | -0.1300115 |  0.28963937 |\n",
       "| PC4 | -0.45335938 | -0.13875974 | -0.31869649 | -0.01320491 |  0.27698938 | -0.04847359 |  0.23581706 | -0.3301407 | -0.62063623 |\n",
       "| PC5 |  0.14662429 |  0.08598251 |  0.07395029 | -0.52118390 |  0.12769545 | -0.23825510 | -0.34363077 | -0.1018214 | -0.15401801 |\n",
       "| PC6 | -0.21686177 |  0.16025198 | -0.11978167 |  0.28106871 |  0.17963251 | -0.09375990 | -0.41383315 | -0.1292836 |  0.17713493 |\n",
       "| PC7 |  0.24106861 |  0.03800354 | -0.30578493 | -0.05490833 | -0.01309771 |  0.14511298 |  0.05229239 | -0.2988397 |  0.13525168 |\n",
       "| PC8 | -0.01526214 | -0.03717686 |  0.18438787 | -0.01590424 |  0.12089020 |  0.23668768 | -0.04074950 | -0.1008535 | -0.00125234 |\n",
       "| PC9 |  0.08212328 |  0.19097583 | -0.06388386 |  0.02313087 |  0.13804625 |  0.08355320 |  0.02178991 |  0.1505655 | -0.08710279 |\n",
       "\n"
      ],
      "text/plain": [
       "    Red.Meat    White.Meat  Eggs        milk        fish        Cereal     \n",
       "PC1 -0.61025570 -0.63880119 -0.85820521 -0.66511722 -0.25613982  0.86402929\n",
       "PC2 -0.08434501 -0.33271081 -0.06291580 -0.24524313  0.85286317 -0.30750779\n",
       "PC3 -0.53039628  0.62418782  0.08097659 -0.37797531 -0.21880808  0.08322418\n",
       "PC4 -0.45335938 -0.13875974 -0.31869649 -0.01320491  0.27698938 -0.04847359\n",
       "PC5  0.14662429  0.08598251  0.07395029 -0.52118390  0.12769545 -0.23825510\n",
       "PC6 -0.21686177  0.16025198 -0.11978167  0.28106871  0.17963251 -0.09375990\n",
       "PC7  0.24106861  0.03800354 -0.30578493 -0.05490833 -0.01309771  0.14511298\n",
       "PC8 -0.01526214 -0.03717686  0.18438787 -0.01590424  0.12089020  0.23668768\n",
       "PC9  0.08212328  0.19097583 -0.06388386  0.02313087  0.13804625  0.08355320\n",
       "    Starch      Nuts       fruits.and.vegetables\n",
       "PC1 -0.61930221  0.8323424  0.18357307          \n",
       "PC2  0.42707702  0.1791140  0.64516728          \n",
       "PC3  0.29025936 -0.1300115  0.28963937          \n",
       "PC4  0.23581706 -0.3301407 -0.62063623          \n",
       "PC5 -0.34363077 -0.1018214 -0.15401801          \n",
       "PC6 -0.41383315 -0.1292836  0.17713493          \n",
       "PC7  0.05229239 -0.2988397  0.13525168          \n",
       "PC8 -0.04074950 -0.1008535 -0.00125234          \n",
       "PC9  0.02178991  0.1505655 -0.08710279          "
      ]
     },
     "metadata": {},
     "output_type": "display_data"
    }
   ],
   "source": [
    "#cor between each pc with the variables\n",
    "vectors <- pc$rotation\n",
    "values  <- (pc$sdev)^2 \n",
    "A <- cor(pro[ ,2:10])\n",
    "corr.y.x <- matrix ( , nrow=nrow(A) , ncol= nrow(A))\n",
    "for (i in 1:nrow(A) ){\n",
    " for (j in 1:nrow(A) ){\n",
    "corr.y.x[i,j] <- vectors[j,i]*sqrt(values[i])/sqrt(A[j,j])\n",
    "  }\n",
    " }\n",
    "#add col,row names to the matrix\n",
    "rownames(corr.y.x) <- c(\"PC1\", \"PC2\",\"PC3\",\"PC4\",\"PC5\",\"PC6\",\"PC7\",\"PC8\",\"PC9\")\n",
    "colnames(corr.y.x) <-  c(\"Red.Meat\", \"White.Meat\",\"Eggs\",\"milk\",\"fish\",\"Cereal\",\"Starch\",\"Nuts\",\"fruits.and.vegetables\")\n",
    "corr.y.x"
   ]
  },
  {
   "cell_type": "markdown",
   "metadata": {},
   "source": [
    "<font color='Maroon'>  \n",
    ">### by noticing the values next to PC1, I can conclude that : \n",
    ">>#### Red.Meat,White.Meat,Eggs,milk,fish,Starch : has a Negative relationship \n",
    ">>#### but Cereal,Nuts,fruits.and.vegetables : has a Positive relationship\n",
    "\n",
    "\n"
   ]
  },
  {
   "cell_type": "markdown",
   "metadata": {},
   "source": [
    "<font color='Maroon'> \n",
    ">### also if we look at the values next to PC2, we can conclude that : \n",
    ">>#### Red.Meat,White.Meat,Eggs,milk,Cereal : has a Negative relationship \n",
    ">>#### but Starch,Nuts,fruits.and.vegetables : has a Positive relationship"
   ]
  },
  {
   "cell_type": "markdown",
   "metadata": {},
   "source": [
    "<font color='Maroon'> \n",
    "## and if we plot the PCs VS the variables it will become clearer and easy to detect"
   ]
  },
  {
   "cell_type": "code",
   "execution_count": 12,
   "metadata": {},
   "outputs": [
    {
     "data": {
      "image/png": "[encoded data removed]",
      "text/plain": [
       "plot without title"
      ]
     },
     "metadata": {
      "image/png": {
       "height": 420,
       "width": 420
      },
      "text/plain": {
       "height": 420,
       "width": 420
      }
     },
     "output_type": "display_data"
    }
   ],
   "source": [
    "# plot PC vs variables\n",
    "ggbiplot(pc)"
   ]
  },
  {
   "cell_type": "markdown",
   "metadata": {},
   "source": [
    "<font color='Maroon'> \n",
    ">### if we look at the x-axis(PC1): \n",
    ">>#### any vector pointing to the right = positive relationship\n",
    ">>#### any vector pointing to the left = negative relationship"
   ]
  },
  {
   "cell_type": "markdown",
   "metadata": {},
   "source": [
    "<font color='Maroon'> \n",
    ">### and if we look at the y-axis(PC2): \n",
    ">>#### any vector pointing UP = positive relationship\n",
    ">>#### any vector pointing DOWN = negative relationship"
   ]
  },
  {
   "cell_type": "markdown",
   "metadata": {},
   "source": [
    "<font color='DimGrey'> \n",
    "## × Variables vs Variables"
   ]
  },
  {
   "cell_type": "code",
   "execution_count": 134,
   "metadata": {},
   "outputs": [
    {
     "data": {
      "text/html": [
       "<table>\n",
       "<caption>A matrix: 9 × 9 of type dbl</caption>\n",
       "<thead>\n",
       "\t<tr><th></th><th scope=col>Red.Meat</th><th scope=col>White.Meat</th><th scope=col>Eggs</th><th scope=col>Milk</th><th scope=col>Fish</th><th scope=col>Cereal</th><th scope=col>Starch</th><th scope=col>Nuts</th><th scope=col>fruits.and.vegetables</th></tr>\n",
       "</thead>\n",
       "<tbody>\n",
       "\t<tr><th scope=row>Red.Meat</th><td> 1.00000000</td><td> 0.1530027</td><td> 0.58560895</td><td> 0.48457425</td><td> 0.06095745</td><td>-0.49987746</td><td> 0.13542594</td><td>-0.3494486</td><td>-0.07422123</td></tr>\n",
       "\t<tr><th scope=row>White.Meat</th><td> 0.15300271</td><td> 1.0000000</td><td> 0.62040916</td><td> 0.27552855</td><td>-0.23400923</td><td>-0.41379691</td><td> 0.31377205</td><td>-0.6349618</td><td>-0.06131670</td></tr>\n",
       "\t<tr><th scope=row>Eggs</th><td> 0.58560895</td><td> 0.6204092</td><td> 1.00000000</td><td> 0.50000926</td><td> 0.06557136</td><td>-0.71243682</td><td> 0.45223071</td><td>-0.5597810</td><td>-0.04551755</td></tr>\n",
       "\t<tr><th scope=row>Milk</th><td> 0.48457425</td><td> 0.2755285</td><td> 0.50000926</td><td> 1.00000000</td><td> 0.02617651</td><td>-0.44206103</td><td> 0.25540615</td><td>-0.5058055</td><td>-0.26096403</td></tr>\n",
       "\t<tr><th scope=row>Fish</th><td> 0.06095745</td><td>-0.2340092</td><td> 0.06557136</td><td> 0.02617651</td><td> 1.00000000</td><td>-0.52423080</td><td> 0.40385286</td><td>-0.1471529</td><td> 0.26613865</td></tr>\n",
       "\t<tr><th scope=row>Cereal</th><td>-0.49987746</td><td>-0.4137969</td><td>-0.71243682</td><td>-0.44206103</td><td>-0.52423080</td><td> 1.00000000</td><td>-0.53326231</td><td> 0.6509973</td><td> 0.04654808</td></tr>\n",
       "\t<tr><th scope=row>Starch</th><td> 0.13542594</td><td> 0.3137721</td><td> 0.45223071</td><td> 0.25540615</td><td> 0.40385286</td><td>-0.53326231</td><td> 1.00000000</td><td>-0.4743116</td><td> 0.08440956</td></tr>\n",
       "\t<tr><th scope=row>Nuts</th><td>-0.34944855</td><td>-0.6349618</td><td>-0.55978097</td><td>-0.50580550</td><td>-0.14715294</td><td> 0.65099727</td><td>-0.47431155</td><td> 1.0000000</td><td> 0.37496971</td></tr>\n",
       "\t<tr><th scope=row>fruits.and.vegetables</th><td>-0.07422123</td><td>-0.0613167</td><td>-0.04551755</td><td>-0.26096403</td><td> 0.26613865</td><td> 0.04654808</td><td> 0.08440956</td><td> 0.3749697</td><td> 1.00000000</td></tr>\n",
       "</tbody>\n",
       "</table>\n"
      ],
      "text/latex": [
       "A matrix: 9 × 9 of type dbl\n",
       "\\begin{tabular}{r|lllllllll}\n",
       "  & Red.Meat & White.Meat & Eggs & Milk & Fish & Cereal & Starch & Nuts & fruits.and.vegetables\\\\\n",
       "\\hline\n",
       "\tRed.Meat &  1.00000000 &  0.1530027 &  0.58560895 &  0.48457425 &  0.06095745 & -0.49987746 &  0.13542594 & -0.3494486 & -0.07422123\\\\\n",
       "\tWhite.Meat &  0.15300271 &  1.0000000 &  0.62040916 &  0.27552855 & -0.23400923 & -0.41379691 &  0.31377205 & -0.6349618 & -0.06131670\\\\\n",
       "\tEggs &  0.58560895 &  0.6204092 &  1.00000000 &  0.50000926 &  0.06557136 & -0.71243682 &  0.45223071 & -0.5597810 & -0.04551755\\\\\n",
       "\tMilk &  0.48457425 &  0.2755285 &  0.50000926 &  1.00000000 &  0.02617651 & -0.44206103 &  0.25540615 & -0.5058055 & -0.26096403\\\\\n",
       "\tFish &  0.06095745 & -0.2340092 &  0.06557136 &  0.02617651 &  1.00000000 & -0.52423080 &  0.40385286 & -0.1471529 &  0.26613865\\\\\n",
       "\tCereal & -0.49987746 & -0.4137969 & -0.71243682 & -0.44206103 & -0.52423080 &  1.00000000 & -0.53326231 &  0.6509973 &  0.04654808\\\\\n",
       "\tStarch &  0.13542594 &  0.3137721 &  0.45223071 &  0.25540615 &  0.40385286 & -0.53326231 &  1.00000000 & -0.4743116 &  0.08440956\\\\\n",
       "\tNuts & -0.34944855 & -0.6349618 & -0.55978097 & -0.50580550 & -0.14715294 &  0.65099727 & -0.47431155 &  1.0000000 &  0.37496971\\\\\n",
       "\tfruits.and.vegetables & -0.07422123 & -0.0613167 & -0.04551755 & -0.26096403 &  0.26613865 &  0.04654808 &  0.08440956 &  0.3749697 &  1.00000000\\\\\n",
       "\\end{tabular}\n"
      ],
      "text/markdown": [
       "\n",
       "A matrix: 9 × 9 of type dbl\n",
       "\n",
       "| <!--/--> | Red.Meat | White.Meat | Eggs | Milk | Fish | Cereal | Starch | Nuts | fruits.and.vegetables |\n",
       "|---|---|---|---|---|---|---|---|---|---|\n",
       "| Red.Meat |  1.00000000 |  0.1530027 |  0.58560895 |  0.48457425 |  0.06095745 | -0.49987746 |  0.13542594 | -0.3494486 | -0.07422123 |\n",
       "| White.Meat |  0.15300271 |  1.0000000 |  0.62040916 |  0.27552855 | -0.23400923 | -0.41379691 |  0.31377205 | -0.6349618 | -0.06131670 |\n",
       "| Eggs |  0.58560895 |  0.6204092 |  1.00000000 |  0.50000926 |  0.06557136 | -0.71243682 |  0.45223071 | -0.5597810 | -0.04551755 |\n",
       "| Milk |  0.48457425 |  0.2755285 |  0.50000926 |  1.00000000 |  0.02617651 | -0.44206103 |  0.25540615 | -0.5058055 | -0.26096403 |\n",
       "| Fish |  0.06095745 | -0.2340092 |  0.06557136 |  0.02617651 |  1.00000000 | -0.52423080 |  0.40385286 | -0.1471529 |  0.26613865 |\n",
       "| Cereal | -0.49987746 | -0.4137969 | -0.71243682 | -0.44206103 | -0.52423080 |  1.00000000 | -0.53326231 |  0.6509973 |  0.04654808 |\n",
       "| Starch |  0.13542594 |  0.3137721 |  0.45223071 |  0.25540615 |  0.40385286 | -0.53326231 |  1.00000000 | -0.4743116 |  0.08440956 |\n",
       "| Nuts | -0.34944855 | -0.6349618 | -0.55978097 | -0.50580550 | -0.14715294 |  0.65099727 | -0.47431155 |  1.0000000 |  0.37496971 |\n",
       "| fruits.and.vegetables | -0.07422123 | -0.0613167 | -0.04551755 | -0.26096403 |  0.26613865 |  0.04654808 |  0.08440956 |  0.3749697 |  1.00000000 |\n",
       "\n"
      ],
      "text/plain": [
       "                      Red.Meat    White.Meat Eggs        Milk       \n",
       "Red.Meat               1.00000000  0.1530027  0.58560895  0.48457425\n",
       "White.Meat             0.15300271  1.0000000  0.62040916  0.27552855\n",
       "Eggs                   0.58560895  0.6204092  1.00000000  0.50000926\n",
       "Milk                   0.48457425  0.2755285  0.50000926  1.00000000\n",
       "Fish                   0.06095745 -0.2340092  0.06557136  0.02617651\n",
       "Cereal                -0.49987746 -0.4137969 -0.71243682 -0.44206103\n",
       "Starch                 0.13542594  0.3137721  0.45223071  0.25540615\n",
       "Nuts                  -0.34944855 -0.6349618 -0.55978097 -0.50580550\n",
       "fruits.and.vegetables -0.07422123 -0.0613167 -0.04551755 -0.26096403\n",
       "                      Fish        Cereal      Starch      Nuts      \n",
       "Red.Meat               0.06095745 -0.49987746  0.13542594 -0.3494486\n",
       "White.Meat            -0.23400923 -0.41379691  0.31377205 -0.6349618\n",
       "Eggs                   0.06557136 -0.71243682  0.45223071 -0.5597810\n",
       "Milk                   0.02617651 -0.44206103  0.25540615 -0.5058055\n",
       "Fish                   1.00000000 -0.52423080  0.40385286 -0.1471529\n",
       "Cereal                -0.52423080  1.00000000 -0.53326231  0.6509973\n",
       "Starch                 0.40385286 -0.53326231  1.00000000 -0.4743116\n",
       "Nuts                  -0.14715294  0.65099727 -0.47431155  1.0000000\n",
       "fruits.and.vegetables  0.26613865  0.04654808  0.08440956  0.3749697\n",
       "                      fruits.and.vegetables\n",
       "Red.Meat              -0.07422123          \n",
       "White.Meat            -0.06131670          \n",
       "Eggs                  -0.04551755          \n",
       "Milk                  -0.26096403          \n",
       "Fish                   0.26613865          \n",
       "Cereal                 0.04654808          \n",
       "Starch                 0.08440956          \n",
       "Nuts                   0.37496971          \n",
       "fruits.and.vegetables  1.00000000          "
      ]
     },
     "metadata": {},
     "output_type": "display_data"
    }
   ],
   "source": [
    "# corr between the variables \n",
    "cor(Npro)"
   ]
  },
  {
   "cell_type": "markdown",
   "metadata": {},
   "source": [
    "<font color='Maroon'> \n",
    "#### we can see that the \"White.Meat\" and the \"Eggs\" has a strong positive correlation \n",
    "#### and the \"Cereal\",\"Eggs\" has a strong negative correlation"
   ]
  },
  {
   "cell_type": "markdown",
   "metadata": {},
   "source": [
    "<font color='Maroon'> \n",
    "### but this matrix shows the correlation in general, if we want to see the correlation for just the first two components, plot pc1 vs pc2 plot of the variables, and it will become clearer and easier to detect."
   ]
  },
  {
   "cell_type": "code",
   "execution_count": 13,
   "metadata": {},
   "outputs": [
    {
     "data": {
      "image/png": "[encoded data removed]",
      "text/plain": [
       "plot without title"
      ]
     },
     "metadata": {
      "image/png": {
       "height": 420,
       "width": 420
      },
      "text/plain": {
       "height": 420,
       "width": 420
      }
     },
     "output_type": "display_data"
    }
   ],
   "source": [
    "ggbiplot(pc)"
   ]
  },
  {
   "cell_type": "markdown",
   "metadata": {},
   "source": [
    "<font color='Maroon'> \n",
    ">## Detecting correlation between variable by the pc plot: \n",
    ">>### Acute angle = positive correlation\n",
    ">>### Abtuse angle = negative correlation \n",
    ">>### Orthogonal angle = no correlation"
   ]
  },
  {
   "cell_type": "markdown",
   "metadata": {},
   "source": [
    "<font color='DimGrey'> \n",
    "## × PCs vs PCs"
   ]
  },
  {
   "cell_type": "code",
   "execution_count": 122,
   "metadata": {
    "scrolled": false
   },
   "outputs": [
    {
     "data": {
      "text/html": [
       "<table>\n",
       "<caption>A matrix: 9 × 9 of type dbl</caption>\n",
       "<thead>\n",
       "\t<tr><th></th><th scope=col>PC1</th><th scope=col>PC2</th><th scope=col>PC3</th><th scope=col>PC4</th><th scope=col>PC5</th><th scope=col>PC6</th><th scope=col>PC7</th><th scope=col>PC8</th><th scope=col>PC9</th></tr>\n",
       "</thead>\n",
       "<tbody>\n",
       "\t<tr><th scope=row>PC1</th><td> 1.00000000</td><td> 0.09119969</td><td> 0.011280906</td><td>-0.17197639</td><td>-0.14627747</td><td>-0.028182122</td><td>-0.011873344</td><td> 0.10606206</td><td> 0.20952881</td></tr>\n",
       "\t<tr><th scope=row>PC2</th><td> 0.09119969</td><td> 1.00000000</td><td>-0.010470768</td><td> 0.15962590</td><td> 0.13577255</td><td> 0.026158222</td><td> 0.011020660</td><td>-0.09844521</td><td>-0.19448149</td></tr>\n",
       "\t<tr><th scope=row>PC3</th><td> 0.01128091</td><td>-0.01047077</td><td> 1.000000000</td><td> 0.01974486</td><td> 0.01679433</td><td> 0.003235630</td><td> 0.001363196</td><td>-0.01217714</td><td>-0.02405630</td></tr>\n",
       "\t<tr><th scope=row>PC4</th><td>-0.17197639</td><td> 0.15962590</td><td> 0.019744857</td><td> 1.00000000</td><td>-0.25602798</td><td>-0.049326884</td><td>-0.020781795</td><td> 0.18563936</td><td> 0.36673617</td></tr>\n",
       "\t<tr><th scope=row>PC5</th><td>-0.14627747</td><td> 0.13577255</td><td> 0.016794327</td><td>-0.25602798</td><td> 1.00000000</td><td>-0.041955828</td><td>-0.017676312</td><td> 0.15789874</td><td> 0.31193374</td></tr>\n",
       "\t<tr><th scope=row>PC6</th><td>-0.02818212</td><td> 0.02615822</td><td> 0.003235630</td><td>-0.04932688</td><td>-0.04195583</td><td> 1.000000000</td><td>-0.003405555</td><td> 0.03042110</td><td> 0.06009780</td></tr>\n",
       "\t<tr><th scope=row>PC7</th><td>-0.01187334</td><td> 0.01102066</td><td> 0.001363196</td><td>-0.02078179</td><td>-0.01767631</td><td>-0.003405555</td><td> 1.000000000</td><td> 0.01281664</td><td> 0.02531967</td></tr>\n",
       "\t<tr><th scope=row>PC8</th><td> 0.10606206</td><td>-0.09844521</td><td>-0.012177138</td><td> 0.18563936</td><td> 0.15789874</td><td> 0.030421101</td><td> 0.012816643</td><td> 1.00000000</td><td>-0.22617520</td></tr>\n",
       "\t<tr><th scope=row>PC9</th><td> 0.20952881</td><td>-0.19448149</td><td>-0.024056305</td><td> 0.36673617</td><td> 0.31193374</td><td> 0.060097804</td><td> 0.025319666</td><td>-0.22617520</td><td> 1.00000000</td></tr>\n",
       "</tbody>\n",
       "</table>\n"
      ],
      "text/latex": [
       "A matrix: 9 × 9 of type dbl\n",
       "\\begin{tabular}{r|lllllllll}\n",
       "  & PC1 & PC2 & PC3 & PC4 & PC5 & PC6 & PC7 & PC8 & PC9\\\\\n",
       "\\hline\n",
       "\tPC1 &  1.00000000 &  0.09119969 &  0.011280906 & -0.17197639 & -0.14627747 & -0.028182122 & -0.011873344 &  0.10606206 &  0.20952881\\\\\n",
       "\tPC2 &  0.09119969 &  1.00000000 & -0.010470768 &  0.15962590 &  0.13577255 &  0.026158222 &  0.011020660 & -0.09844521 & -0.19448149\\\\\n",
       "\tPC3 &  0.01128091 & -0.01047077 &  1.000000000 &  0.01974486 &  0.01679433 &  0.003235630 &  0.001363196 & -0.01217714 & -0.02405630\\\\\n",
       "\tPC4 & -0.17197639 &  0.15962590 &  0.019744857 &  1.00000000 & -0.25602798 & -0.049326884 & -0.020781795 &  0.18563936 &  0.36673617\\\\\n",
       "\tPC5 & -0.14627747 &  0.13577255 &  0.016794327 & -0.25602798 &  1.00000000 & -0.041955828 & -0.017676312 &  0.15789874 &  0.31193374\\\\\n",
       "\tPC6 & -0.02818212 &  0.02615822 &  0.003235630 & -0.04932688 & -0.04195583 &  1.000000000 & -0.003405555 &  0.03042110 &  0.06009780\\\\\n",
       "\tPC7 & -0.01187334 &  0.01102066 &  0.001363196 & -0.02078179 & -0.01767631 & -0.003405555 &  1.000000000 &  0.01281664 &  0.02531967\\\\\n",
       "\tPC8 &  0.10606206 & -0.09844521 & -0.012177138 &  0.18563936 &  0.15789874 &  0.030421101 &  0.012816643 &  1.00000000 & -0.22617520\\\\\n",
       "\tPC9 &  0.20952881 & -0.19448149 & -0.024056305 &  0.36673617 &  0.31193374 &  0.060097804 &  0.025319666 & -0.22617520 &  1.00000000\\\\\n",
       "\\end{tabular}\n"
      ],
      "text/markdown": [
       "\n",
       "A matrix: 9 × 9 of type dbl\n",
       "\n",
       "| <!--/--> | PC1 | PC2 | PC3 | PC4 | PC5 | PC6 | PC7 | PC8 | PC9 |\n",
       "|---|---|---|---|---|---|---|---|---|---|\n",
       "| PC1 |  1.00000000 |  0.09119969 |  0.011280906 | -0.17197639 | -0.14627747 | -0.028182122 | -0.011873344 |  0.10606206 |  0.20952881 |\n",
       "| PC2 |  0.09119969 |  1.00000000 | -0.010470768 |  0.15962590 |  0.13577255 |  0.026158222 |  0.011020660 | -0.09844521 | -0.19448149 |\n",
       "| PC3 |  0.01128091 | -0.01047077 |  1.000000000 |  0.01974486 |  0.01679433 |  0.003235630 |  0.001363196 | -0.01217714 | -0.02405630 |\n",
       "| PC4 | -0.17197639 |  0.15962590 |  0.019744857 |  1.00000000 | -0.25602798 | -0.049326884 | -0.020781795 |  0.18563936 |  0.36673617 |\n",
       "| PC5 | -0.14627747 |  0.13577255 |  0.016794327 | -0.25602798 |  1.00000000 | -0.041955828 | -0.017676312 |  0.15789874 |  0.31193374 |\n",
       "| PC6 | -0.02818212 |  0.02615822 |  0.003235630 | -0.04932688 | -0.04195583 |  1.000000000 | -0.003405555 |  0.03042110 |  0.06009780 |\n",
       "| PC7 | -0.01187334 |  0.01102066 |  0.001363196 | -0.02078179 | -0.01767631 | -0.003405555 |  1.000000000 |  0.01281664 |  0.02531967 |\n",
       "| PC8 |  0.10606206 | -0.09844521 | -0.012177138 |  0.18563936 |  0.15789874 |  0.030421101 |  0.012816643 |  1.00000000 | -0.22617520 |\n",
       "| PC9 |  0.20952881 | -0.19448149 | -0.024056305 |  0.36673617 |  0.31193374 |  0.060097804 |  0.025319666 | -0.22617520 |  1.00000000 |\n",
       "\n"
      ],
      "text/plain": [
       "    PC1         PC2         PC3          PC4         PC5         PC6         \n",
       "PC1  1.00000000  0.09119969  0.011280906 -0.17197639 -0.14627747 -0.028182122\n",
       "PC2  0.09119969  1.00000000 -0.010470768  0.15962590  0.13577255  0.026158222\n",
       "PC3  0.01128091 -0.01047077  1.000000000  0.01974486  0.01679433  0.003235630\n",
       "PC4 -0.17197639  0.15962590  0.019744857  1.00000000 -0.25602798 -0.049326884\n",
       "PC5 -0.14627747  0.13577255  0.016794327 -0.25602798  1.00000000 -0.041955828\n",
       "PC6 -0.02818212  0.02615822  0.003235630 -0.04932688 -0.04195583  1.000000000\n",
       "PC7 -0.01187334  0.01102066  0.001363196 -0.02078179 -0.01767631 -0.003405555\n",
       "PC8  0.10606206 -0.09844521 -0.012177138  0.18563936  0.15789874  0.030421101\n",
       "PC9  0.20952881 -0.19448149 -0.024056305  0.36673617  0.31193374  0.060097804\n",
       "    PC7          PC8         PC9        \n",
       "PC1 -0.011873344  0.10606206  0.20952881\n",
       "PC2  0.011020660 -0.09844521 -0.19448149\n",
       "PC3  0.001363196 -0.01217714 -0.02405630\n",
       "PC4 -0.020781795  0.18563936  0.36673617\n",
       "PC5 -0.017676312  0.15789874  0.31193374\n",
       "PC6 -0.003405555  0.03042110  0.06009780\n",
       "PC7  1.000000000  0.01281664  0.02531967\n",
       "PC8  0.012816643  1.00000000 -0.22617520\n",
       "PC9  0.025319666 -0.22617520  1.00000000"
      ]
     },
     "metadata": {},
     "output_type": "display_data"
    }
   ],
   "source": [
    "#corr between pc vs pc \n",
    "cor(pc$rotation)"
   ]
  },
  {
   "cell_type": "markdown",
   "metadata": {},
   "source": [
    "<font color='Maroon'> \n",
    "### All the correlation between  the PCs are very week which is good."
   ]
  },
  {
   "cell_type": "markdown",
   "metadata": {},
   "source": [
    "<a id='p'></a>\n",
    "<font color='DimGrey'> \n",
    "# plots"
   ]
  },
  {
   "cell_type": "code",
   "execution_count": 25,
   "metadata": {},
   "outputs": [
    {
     "data": {
      "image/png": "[encoded data removed]",
      "text/plain": [
       "plot without title"
      ]
     },
     "metadata": {
      "image/png": {
       "height": 420,
       "width": 420
      },
      "text/plain": {
       "height": 420,
       "width": 420
      }
     },
     "output_type": "display_data"
    }
   ],
   "source": [
    "# bar plot the percentage of variation\n",
    "fviz_eig(pc,addlabels = TRUE)"
   ]
  },
  {
   "cell_type": "markdown",
   "metadata": {},
   "source": [
    "<font color='Maroon'> \n",
    "### × Principal components are created in order of the amount of variation they captures from the data\n",
    " ### × PC1 captures the most variation\n",
    " ### × The first three or four PCs have coverd most of the information"
   ]
  },
  {
   "cell_type": "code",
   "execution_count": 35,
   "metadata": {},
   "outputs": [
    {
     "data": {
      "image/png": "[encoded data removed]",
      "text/plain": [
       "plot without title"
      ]
     },
     "metadata": {
      "image/png": {
       "height": 420,
       "width": 420
      },
      "text/plain": {
       "height": 420,
       "width": 420
      }
     },
     "output_type": "display_data"
    }
   ],
   "source": [
    "# plot the PC1 and PC2 with the Country names \n",
    "ggbiplot(pc, labels=pro$Country)"
   ]
  },
  {
   "cell_type": "markdown",
   "metadata": {},
   "source": [
    "<font color='Maroon'> \n",
    "### Now we can see the countries that has similarity of the protein sources,There is some countries are kinda clustered together,like Romaine Yogoslavia,Bulgaria,Albania... they must rely on cereal as the most source of protein.\n",
    "### Also Spain and portugal, it clearly depends on vegetables and fruits as the most source of protein."
   ]
  },
  {
   "cell_type": "markdown",
   "metadata": {},
   "source": [
    "<font color='Maroon'> \n",
    "## But what makes it clustered this way ?\n",
    "### Perhaps because of the different economic status of the countries and the peoples, therefore the quantities of their consumption differ  for the type of the protein source"
   ]
  },
  {
   "cell_type": "markdown",
   "metadata": {},
   "source": [
    "<font color='Maroon'> \n",
    "## So I tried to classify countries according to their wealth and poverty"
   ]
  },
  {
   "cell_type": "code",
   "execution_count": 15,
   "metadata": {},
   "outputs": [],
   "source": [
    "#add new column to the main dataset\n",
    "pro$type<- c(\"poor\",\"rich\",\"rich\",\"mid\",\"mid\",\"rich\",\"rich\",\"rich\",\"rich\",\"poor\",\"mid\",\"rich\",\"mid\",\"rich\",\"rich\",\"mid\",\"mid\",\"mid\",\"poor\",\"rich\",\"rich\",\"rich\",\"rich\",\"rich\",\"mid\")"
   ]
  },
  {
   "cell_type": "code",
   "execution_count": 39,
   "metadata": {},
   "outputs": [
    {
     "data": {
      "image/png": "[encoded data removed]",
      "text/plain": [
       "plot without title"
      ]
     },
     "metadata": {
      "image/png": {
       "height": 420,
       "width": 420
      },
      "text/plain": {
       "height": 420,
       "width": 420
      }
     },
     "output_type": "display_data"
    }
   ],
   "source": [
    "#plot the first two Principal Components and assign \"group\" to the new column that i just made\n",
    "ggbiplot(pc,ellipse=TRUE,labels=pro$Country, group=pro$type, obs.scale = 1, var.scale = 1,circle=TRUE )"
   ]
  },
  {
   "cell_type": "markdown",
   "metadata": {},
   "source": [
    "<font color='Maroon'> \n",
    "## this plot shows me that the first two components helped to separate the groups very well \n",
    "\n",
    "### it does make sense that rich countries tend to consume protein from sources that have high price like:white meat, red meat, milk and eggs\n",
    "### and the middle income countries tend to consume protein from sources that have low price like:cereal, nuts, fruits and vegetables\n",
    " "
   ]
  },
  {
   "cell_type": "markdown",
   "metadata": {},
   "source": [
    "<font color='Maroon'> \n",
    "# Would other PCs provide better separation? Try PC3 and 4"
   ]
  },
  {
   "cell_type": "code",
   "execution_count": 16,
   "metadata": {},
   "outputs": [
    {
     "data": {
      "image/png": "[encoded data removed]",
      "text/plain": [
       "plot without title"
      ]
     },
     "metadata": {
      "image/png": {
       "height": 420,
       "width": 420
      },
      "text/plain": {
       "height": 420,
       "width": 420
      }
     },
     "output_type": "display_data"
    }
   ],
   "source": [
    "ggbiplot(pc,ellipse=TRUE,choices=c(3,4),labels=pro$Country, group=pro$type, obs.scale = 1, var.scale = 1,circle=TRUE )"
   ]
  },
  {
   "cell_type": "markdown",
   "metadata": {},
   "source": [
    "<font color='Maroon'> \n",
    "### we don't see much here.. because pc3 and pc4 explain very smaal percentages of total variation, so they are not informative and will not separate the groups better than pc1 and pc2"
   ]
  },
  {
   "cell_type": "markdown",
   "metadata": {},
   "source": [
    "<a id='cv'></a>\n",
    "<font color='DimGrey'> \n",
    "# LOOCV"
   ]
  },
  {
   "cell_type": "markdown",
   "metadata": {},
   "source": [
    "<font color='DimGrey'> \n",
    "## Oil data"
   ]
  },
  {
   "cell_type": "code",
   "execution_count": 17,
   "metadata": {},
   "outputs": [],
   "source": [
    "oil0 <- read.csv(\"oil.csv\",sep=\";\")"
   ]
  },
  {
   "cell_type": "markdown",
   "metadata": {},
   "source": [
    "#### The table below shows data percentages of different types of residuals during the analysis of crude oil obtained from 2 different fields"
   ]
  },
  {
   "cell_type": "code",
   "execution_count": 18,
   "metadata": {},
   "outputs": [
    {
     "data": {
      "text/html": [
       "<table>\n",
       "<caption>A data.frame: 6 × 6</caption>\n",
       "<thead>\n",
       "\t<tr><th></th><th scope=col>x1</th><th scope=col>x2</th><th scope=col>x3</th><th scope=col>x4</th><th scope=col>x5</th><th scope=col>population</th></tr>\n",
       "\t<tr><th></th><th scope=col>&lt;dbl&gt;</th><th scope=col>&lt;int&gt;</th><th scope=col>&lt;dbl&gt;</th><th scope=col>&lt;dbl&gt;</th><th scope=col>&lt;dbl&gt;</th><th scope=col>&lt;int&gt;</th></tr>\n",
       "</thead>\n",
       "<tbody>\n",
       "\t<tr><th scope=row>1</th><td>3.9</td><td>51</td><td>0.20</td><td>7.06</td><td>12.19</td><td>1</td></tr>\n",
       "\t<tr><th scope=row>2</th><td>2.7</td><td>49</td><td>0.07</td><td>7.14</td><td>12.23</td><td>1</td></tr>\n",
       "\t<tr><th scope=row>3</th><td>2.8</td><td>36</td><td>0.30</td><td>7.00</td><td>11.30</td><td>1</td></tr>\n",
       "\t<tr><th scope=row>4</th><td>3.1</td><td>45</td><td>0.08</td><td>7.20</td><td>13.01</td><td>1</td></tr>\n",
       "\t<tr><th scope=row>5</th><td>3.5</td><td>46</td><td>0.10</td><td>7.81</td><td>12.63</td><td>1</td></tr>\n",
       "\t<tr><th scope=row>6</th><td>3.9</td><td>43</td><td>0.07</td><td>6.25</td><td>10.42</td><td>1</td></tr>\n",
       "</tbody>\n",
       "</table>\n"
      ],
      "text/latex": [
       "A data.frame: 6 × 6\n",
       "\\begin{tabular}{r|llllll}\n",
       "  & x1 & x2 & x3 & x4 & x5 & population\\\\\n",
       "  & <dbl> & <int> & <dbl> & <dbl> & <dbl> & <int>\\\\\n",
       "\\hline\n",
       "\t1 & 3.9 & 51 & 0.20 & 7.06 & 12.19 & 1\\\\\n",
       "\t2 & 2.7 & 49 & 0.07 & 7.14 & 12.23 & 1\\\\\n",
       "\t3 & 2.8 & 36 & 0.30 & 7.00 & 11.30 & 1\\\\\n",
       "\t4 & 3.1 & 45 & 0.08 & 7.20 & 13.01 & 1\\\\\n",
       "\t5 & 3.5 & 46 & 0.10 & 7.81 & 12.63 & 1\\\\\n",
       "\t6 & 3.9 & 43 & 0.07 & 6.25 & 10.42 & 1\\\\\n",
       "\\end{tabular}\n"
      ],
      "text/markdown": [
       "\n",
       "A data.frame: 6 × 6\n",
       "\n",
       "| <!--/--> | x1 &lt;dbl&gt; | x2 &lt;int&gt; | x3 &lt;dbl&gt; | x4 &lt;dbl&gt; | x5 &lt;dbl&gt; | population &lt;int&gt; |\n",
       "|---|---|---|---|---|---|---|\n",
       "| 1 | 3.9 | 51 | 0.20 | 7.06 | 12.19 | 1 |\n",
       "| 2 | 2.7 | 49 | 0.07 | 7.14 | 12.23 | 1 |\n",
       "| 3 | 2.8 | 36 | 0.30 | 7.00 | 11.30 | 1 |\n",
       "| 4 | 3.1 | 45 | 0.08 | 7.20 | 13.01 | 1 |\n",
       "| 5 | 3.5 | 46 | 0.10 | 7.81 | 12.63 | 1 |\n",
       "| 6 | 3.9 | 43 | 0.07 | 6.25 | 10.42 | 1 |\n",
       "\n"
      ],
      "text/plain": [
       "  x1  x2 x3   x4   x5    population\n",
       "1 3.9 51 0.20 7.06 12.19 1         \n",
       "2 2.7 49 0.07 7.14 12.23 1         \n",
       "3 2.8 36 0.30 7.00 11.30 1         \n",
       "4 3.1 45 0.08 7.20 13.01 1         \n",
       "5 3.5 46 0.10 7.81 12.63 1         \n",
       "6 3.9 43 0.07 6.25 10.42 1         "
      ]
     },
     "metadata": {},
     "output_type": "display_data"
    }
   ],
   "source": [
    "head(oil0)"
   ]
  },
  {
   "cell_type": "markdown",
   "metadata": {},
   "source": [
    "<font color='Maroon'> \n",
    "##### Estimated Fisher function using 17 samples then classify the 18th one using this function. Repeat the process until you exhaust all the 18 samples."
   ]
  },
  {
   "cell_type": "code",
   "execution_count": 19,
   "metadata": {},
   "outputs": [],
   "source": [
    "i=1\n",
    "yhat <- vector(mode = \"numeric\")\n",
    "mhat <- vector(mode = \"numeric\")\n",
    "group <- vector(mode = \"numeric\")\n",
    "# start a while loop with a condition (i<19), were i=counter,19=number of rows,we should stop the loop before\n",
    "while (i < 19){\n",
    "  oil1<- oil0[-i,]\n",
    "  # choose the X0 to be changing over the counter i  \n",
    "  X0=t(as.matrix(oil0[i,1:5]))\n",
    "  #define the two groupes\n",
    "  x1=oil1[oil1[1:17,6]==1,][,1:5]\n",
    "  x2=oil1[oil1[1:17,6]==2,][,1:5]\n",
    "  #number of each group\n",
    "  n1=nrow(x1)\n",
    "  n2=nrow(x2)\n",
    "  #calculate X bar 1,2\n",
    "  xbar1=colMeans(x1)\n",
    "  xbar2=colMeans(x2)\n",
    "  #calculate S 1,2  \n",
    "  s1=cov(x1)\n",
    "  s2=cov(x2)\n",
    "  #calculate y hat  \n",
    "  spooled=(((n1-1)*s1)+((n2-1)*s2))/(n1+n2-2)\n",
    "  inv.spooled <-solve(spooled)\n",
    "  yhat[i]=(xbar1-xbar2)%*%(inv.spooled)%*%(X0)\n",
    "  #calculate m hat\n",
    "  mhat[i]=((xbar1-xbar2)%*%inv.spooled%*%(xbar1+xbar2))/(2)\n",
    "  #decide which group\n",
    "  group[i] <-ifelse(yhat[i] >= mhat[i],\"1\",\"2\")\n",
    "  #increase the counter  \n",
    "  i <- i+1 }"
   ]
  },
  {
   "cell_type": "code",
   "execution_count": 20,
   "metadata": {},
   "outputs": [
    {
     "data": {
      "text/html": [
       "<table>\n",
       "<caption>A data.frame: 18 × 4</caption>\n",
       "<thead>\n",
       "\t<tr><th scope=col>group</th><th scope=col>mhat</th><th scope=col>yhat</th><th scope=col>population</th></tr>\n",
       "\t<tr><th scope=col>&lt;fct&gt;</th><th scope=col>&lt;dbl&gt;</th><th scope=col>&lt;dbl&gt;</th><th scope=col>&lt;int&gt;</th></tr>\n",
       "</thead>\n",
       "<tbody>\n",
       "\t<tr><td>1</td><td> 4.391099</td><td>  8.8412317</td><td>1</td></tr>\n",
       "\t<tr><td>1</td><td> 4.356570</td><td>  9.6568176</td><td>1</td></tr>\n",
       "\t<tr><td>1</td><td> 5.675917</td><td>  8.0518773</td><td>1</td></tr>\n",
       "\t<tr><td>1</td><td> 4.361202</td><td>  9.4968318</td><td>1</td></tr>\n",
       "\t<tr><td>1</td><td> 3.750678</td><td>  7.7149945</td><td>1</td></tr>\n",
       "\t<tr><td>1</td><td> 5.421248</td><td>  7.6966930</td><td>1</td></tr>\n",
       "\t<tr><td>1</td><td> 8.287336</td><td>  9.4273148</td><td>1</td></tr>\n",
       "\t<tr><td>2</td><td> 6.320771</td><td>  4.5608329</td><td>2</td></tr>\n",
       "\t<tr><td>2</td><td> 3.930731</td><td>  0.8506008</td><td>2</td></tr>\n",
       "\t<tr><td>2</td><td> 4.487153</td><td> -0.3070083</td><td>2</td></tr>\n",
       "\t<tr><td>2</td><td>10.447270</td><td>-26.3084023</td><td>2</td></tr>\n",
       "\t<tr><td>2</td><td> 4.659520</td><td> -0.6973420</td><td>2</td></tr>\n",
       "\t<tr><td>2</td><td> 5.351772</td><td> -0.8385628</td><td>2</td></tr>\n",
       "\t<tr><td>2</td><td> 4.444525</td><td>  0.5873495</td><td>2</td></tr>\n",
       "\t<tr><td>2</td><td> 4.784109</td><td> -1.1477416</td><td>2</td></tr>\n",
       "\t<tr><td>1</td><td> 9.736162</td><td> 14.9763380</td><td>2</td></tr>\n",
       "\t<tr><td>2</td><td> 6.736758</td><td>  4.8629963</td><td>2</td></tr>\n",
       "\t<tr><td>1</td><td>-3.561597</td><td>  7.7602774</td><td>2</td></tr>\n",
       "</tbody>\n",
       "</table>\n"
      ],
      "text/latex": [
       "A data.frame: 18 × 4\n",
       "\\begin{tabular}{llll}\n",
       " group & mhat & yhat & population\\\\\n",
       " <fct> & <dbl> & <dbl> & <int>\\\\\n",
       "\\hline\n",
       "\t 1 &  4.391099 &   8.8412317 & 1\\\\\n",
       "\t 1 &  4.356570 &   9.6568176 & 1\\\\\n",
       "\t 1 &  5.675917 &   8.0518773 & 1\\\\\n",
       "\t 1 &  4.361202 &   9.4968318 & 1\\\\\n",
       "\t 1 &  3.750678 &   7.7149945 & 1\\\\\n",
       "\t 1 &  5.421248 &   7.6966930 & 1\\\\\n",
       "\t 1 &  8.287336 &   9.4273148 & 1\\\\\n",
       "\t 2 &  6.320771 &   4.5608329 & 2\\\\\n",
       "\t 2 &  3.930731 &   0.8506008 & 2\\\\\n",
       "\t 2 &  4.487153 &  -0.3070083 & 2\\\\\n",
       "\t 2 & 10.447270 & -26.3084023 & 2\\\\\n",
       "\t 2 &  4.659520 &  -0.6973420 & 2\\\\\n",
       "\t 2 &  5.351772 &  -0.8385628 & 2\\\\\n",
       "\t 2 &  4.444525 &   0.5873495 & 2\\\\\n",
       "\t 2 &  4.784109 &  -1.1477416 & 2\\\\\n",
       "\t 1 &  9.736162 &  14.9763380 & 2\\\\\n",
       "\t 2 &  6.736758 &   4.8629963 & 2\\\\\n",
       "\t 1 & -3.561597 &   7.7602774 & 2\\\\\n",
       "\\end{tabular}\n"
      ],
      "text/markdown": [
       "\n",
       "A data.frame: 18 × 4\n",
       "\n",
       "| group &lt;fct&gt; | mhat &lt;dbl&gt; | yhat &lt;dbl&gt; | population &lt;int&gt; |\n",
       "|---|---|---|---|\n",
       "| 1 |  4.391099 |   8.8412317 | 1 |\n",
       "| 1 |  4.356570 |   9.6568176 | 1 |\n",
       "| 1 |  5.675917 |   8.0518773 | 1 |\n",
       "| 1 |  4.361202 |   9.4968318 | 1 |\n",
       "| 1 |  3.750678 |   7.7149945 | 1 |\n",
       "| 1 |  5.421248 |   7.6966930 | 1 |\n",
       "| 1 |  8.287336 |   9.4273148 | 1 |\n",
       "| 2 |  6.320771 |   4.5608329 | 2 |\n",
       "| 2 |  3.930731 |   0.8506008 | 2 |\n",
       "| 2 |  4.487153 |  -0.3070083 | 2 |\n",
       "| 2 | 10.447270 | -26.3084023 | 2 |\n",
       "| 2 |  4.659520 |  -0.6973420 | 2 |\n",
       "| 2 |  5.351772 |  -0.8385628 | 2 |\n",
       "| 2 |  4.444525 |   0.5873495 | 2 |\n",
       "| 2 |  4.784109 |  -1.1477416 | 2 |\n",
       "| 1 |  9.736162 |  14.9763380 | 2 |\n",
       "| 2 |  6.736758 |   4.8629963 | 2 |\n",
       "| 1 | -3.561597 |   7.7602774 | 2 |\n",
       "\n"
      ],
      "text/plain": [
       "   group mhat      yhat        population\n",
       "1  1      4.391099   8.8412317 1         \n",
       "2  1      4.356570   9.6568176 1         \n",
       "3  1      5.675917   8.0518773 1         \n",
       "4  1      4.361202   9.4968318 1         \n",
       "5  1      3.750678   7.7149945 1         \n",
       "6  1      5.421248   7.6966930 1         \n",
       "7  1      8.287336   9.4273148 1         \n",
       "8  2      6.320771   4.5608329 2         \n",
       "9  2      3.930731   0.8506008 2         \n",
       "10 2      4.487153  -0.3070083 2         \n",
       "11 2     10.447270 -26.3084023 2         \n",
       "12 2      4.659520  -0.6973420 2         \n",
       "13 2      5.351772  -0.8385628 2         \n",
       "14 2      4.444525   0.5873495 2         \n",
       "15 2      4.784109  -1.1477416 2         \n",
       "16 1      9.736162  14.9763380 2         \n",
       "17 2      6.736758   4.8629963 2         \n",
       "18 1     -3.561597   7.7602774 2         "
      ]
     },
     "metadata": {},
     "output_type": "display_data"
    }
   ],
   "source": [
    "#table shows the m hat,y hat,and the classification results\n",
    "cbind(group,mhat,yhat,oil0[6])"
   ]
  },
  {
   "cell_type": "markdown",
   "metadata": {},
   "source": [
    "<font color='Maroon'> \n",
    "### most of the predicted observations were classified in the same group that they were actually in. which is very good"
   ]
  }
 ],
 "metadata": {
  "kernelspec": {
   "display_name": "R",
   "language": "R",
   "name": "ir"
  },
  "language_info": {
   "codemirror_mode": "r",
   "file_extension": ".r",
   "mimetype": "text/x-r-source",
   "name": "R",
   "pygments_lexer": "r",
   "version": "3.6.3"
  }
 },
 "nbformat": 4,
 "nbformat_minor": 2
}
